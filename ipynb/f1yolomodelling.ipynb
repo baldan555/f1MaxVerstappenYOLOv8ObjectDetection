{
 "cells": [
  {
   "cell_type": "code",
   "execution_count": null,
   "metadata": {},
   "outputs": [],
   "source": [
    "from ultralytics import YOLO\n",
    "\n",
    "# Load dataset\n",
    "model = YOLO('yolov8n.pt')  # Load a pretrained YOLOv8 model\n",
    "results = model.train(data='data.yaml', epochs=100, imgsz=640)"
   ]
  }
 ],
 "metadata": {
  "language_info": {
   "name": "python"
  }
 },
 "nbformat": 4,
 "nbformat_minor": 2
}
